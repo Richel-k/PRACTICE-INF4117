{
 "cells": [
  {
   "cell_type": "markdown",
   "id": "358f439a-978a-4add-9455-a113c966db4d",
   "metadata": {},
   "source": [
    "## Représentation des graphiques"
   ]
  },
  {
   "cell_type": "code",
   "execution_count": null,
   "id": "2e924725-2804-4c1c-91c8-e9469833f997",
   "metadata": {},
   "outputs": [],
   "source": [
    "import pandas as pd\n",
    "import numpy as np\n",
    "import matplotlib.pyplot as plt\n",
    "import seaborn as sns\n",
    "from sklearn.preprocessing import StandardScaler"
   ]
  },
  {
   "cell_type": "code",
   "execution_count": null,
   "id": "3a075caa-5590-4944-bd39-0115ff00385b",
   "metadata": {},
   "outputs": [],
   "source": [
    "# Lecture des données\n",
    "\n",
    "df  = pd.read_csv(\"wine/wine.data\", sep=\",\")\n"
   ]
  }
 ],
 "metadata": {
  "kernelspec": {
   "display_name": "Python 3 (ipykernel)",
   "language": "python",
   "name": "python3"
  },
  "language_info": {
   "codemirror_mode": {
    "name": "ipython",
    "version": 3
   },
   "file_extension": ".py",
   "mimetype": "text/x-python",
   "name": "python",
   "nbconvert_exporter": "python",
   "pygments_lexer": "ipython3",
   "version": "3.10.12"
  }
 },
 "nbformat": 4,
 "nbformat_minor": 5
}
