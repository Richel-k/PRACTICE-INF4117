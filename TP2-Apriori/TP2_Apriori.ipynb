{
 "cells": [
  {
   "cell_type": "markdown",
   "id": "14f7ee4d-9255-42fb-95cb-d930bcac7dcd",
   "metadata": {},
   "source": [
    "## Implémentation de l'algorithme apriori sur le Jeu de données wine"
   ]
  },
  {
   "cell_type": "code",
   "execution_count": 1,
   "id": "01f548a9-3a50-442c-927f-58c10f2a8e82",
   "metadata": {},
   "outputs": [],
   "source": [
    "import pandas as pd\n",
    "import numpy as np\n",
    "import matplotlib.pyplot as plt\n",
    "import seaborn as sns"
   ]
  },
  {
   "cell_type": "code",
   "execution_count": 2,
   "id": "a6258b64-4e9e-4a8a-8d26-f79095dade54",
   "metadata": {},
   "outputs": [
    {
     "data": {
      "text/html": [
       "<div>\n",
       "<style scoped>\n",
       "    .dataframe tbody tr th:only-of-type {\n",
       "        vertical-align: middle;\n",
       "    }\n",
       "\n",
       "    .dataframe tbody tr th {\n",
       "        vertical-align: top;\n",
       "    }\n",
       "\n",
       "    .dataframe thead th {\n",
       "        text-align: right;\n",
       "    }\n",
       "</style>\n",
       "<table border=\"1\" class=\"dataframe\">\n",
       "  <thead>\n",
       "    <tr style=\"text-align: right;\">\n",
       "      <th></th>\n",
       "      <th>class</th>\n",
       "      <th>Alcohol</th>\n",
       "      <th>Malic acid</th>\n",
       "      <th>Ash</th>\n",
       "      <th>Alcanity of Ash</th>\n",
       "      <th>Magnesium</th>\n",
       "      <th>Total phenol</th>\n",
       "      <th>Flavanoids</th>\n",
       "      <th>NonFlavanoids phenols</th>\n",
       "      <th>preonthocyanins</th>\n",
       "      <th>color intensity</th>\n",
       "      <th>Hue</th>\n",
       "      <th>OD280/OD315 of diluted wines</th>\n",
       "      <th>proline</th>\n",
       "    </tr>\n",
       "  </thead>\n",
       "  <tbody>\n",
       "    <tr>\n",
       "      <th>0</th>\n",
       "      <td>1</td>\n",
       "      <td>14.23</td>\n",
       "      <td>1.71</td>\n",
       "      <td>2.43</td>\n",
       "      <td>15.6</td>\n",
       "      <td>127</td>\n",
       "      <td>2.80</td>\n",
       "      <td>3.06</td>\n",
       "      <td>0.28</td>\n",
       "      <td>2.29</td>\n",
       "      <td>5.64</td>\n",
       "      <td>1.04</td>\n",
       "      <td>3.92</td>\n",
       "      <td>1065</td>\n",
       "    </tr>\n",
       "    <tr>\n",
       "      <th>1</th>\n",
       "      <td>1</td>\n",
       "      <td>13.20</td>\n",
       "      <td>1.78</td>\n",
       "      <td>2.14</td>\n",
       "      <td>11.2</td>\n",
       "      <td>100</td>\n",
       "      <td>2.65</td>\n",
       "      <td>2.76</td>\n",
       "      <td>0.26</td>\n",
       "      <td>1.28</td>\n",
       "      <td>4.38</td>\n",
       "      <td>1.05</td>\n",
       "      <td>3.40</td>\n",
       "      <td>1050</td>\n",
       "    </tr>\n",
       "    <tr>\n",
       "      <th>2</th>\n",
       "      <td>1</td>\n",
       "      <td>13.16</td>\n",
       "      <td>2.36</td>\n",
       "      <td>2.67</td>\n",
       "      <td>18.6</td>\n",
       "      <td>101</td>\n",
       "      <td>2.80</td>\n",
       "      <td>3.24</td>\n",
       "      <td>0.30</td>\n",
       "      <td>2.81</td>\n",
       "      <td>5.68</td>\n",
       "      <td>1.03</td>\n",
       "      <td>3.17</td>\n",
       "      <td>1185</td>\n",
       "    </tr>\n",
       "    <tr>\n",
       "      <th>3</th>\n",
       "      <td>1</td>\n",
       "      <td>14.37</td>\n",
       "      <td>1.95</td>\n",
       "      <td>2.50</td>\n",
       "      <td>16.8</td>\n",
       "      <td>113</td>\n",
       "      <td>3.85</td>\n",
       "      <td>3.49</td>\n",
       "      <td>0.24</td>\n",
       "      <td>2.18</td>\n",
       "      <td>7.80</td>\n",
       "      <td>0.86</td>\n",
       "      <td>3.45</td>\n",
       "      <td>1480</td>\n",
       "    </tr>\n",
       "    <tr>\n",
       "      <th>4</th>\n",
       "      <td>1</td>\n",
       "      <td>13.24</td>\n",
       "      <td>2.59</td>\n",
       "      <td>2.87</td>\n",
       "      <td>21.0</td>\n",
       "      <td>118</td>\n",
       "      <td>2.80</td>\n",
       "      <td>2.69</td>\n",
       "      <td>0.39</td>\n",
       "      <td>1.82</td>\n",
       "      <td>4.32</td>\n",
       "      <td>1.04</td>\n",
       "      <td>2.93</td>\n",
       "      <td>735</td>\n",
       "    </tr>\n",
       "  </tbody>\n",
       "</table>\n",
       "</div>"
      ],
      "text/plain": [
       "   class  Alcohol  Malic acid   Ash  Alcanity of Ash  Magnesium  Total phenol  \\\n",
       "0      1    14.23        1.71  2.43             15.6        127          2.80   \n",
       "1      1    13.20        1.78  2.14             11.2        100          2.65   \n",
       "2      1    13.16        2.36  2.67             18.6        101          2.80   \n",
       "3      1    14.37        1.95  2.50             16.8        113          3.85   \n",
       "4      1    13.24        2.59  2.87             21.0        118          2.80   \n",
       "\n",
       "   Flavanoids  NonFlavanoids phenols  preonthocyanins  color intensity   Hue  \\\n",
       "0        3.06                   0.28             2.29             5.64  1.04   \n",
       "1        2.76                   0.26             1.28             4.38  1.05   \n",
       "2        3.24                   0.30             2.81             5.68  1.03   \n",
       "3        3.49                   0.24             2.18             7.80  0.86   \n",
       "4        2.69                   0.39             1.82             4.32  1.04   \n",
       "\n",
       "   OD280/OD315 of diluted wines  proline  \n",
       "0                          3.92     1065  \n",
       "1                          3.40     1050  \n",
       "2                          3.17     1185  \n",
       "3                          3.45     1480  \n",
       "4                          2.93      735  "
      ]
     },
     "execution_count": 2,
     "metadata": {},
     "output_type": "execute_result"
    }
   ],
   "source": [
    "df  = pd.read_csv(\"../wine/wine.data\", sep=\",\", header=None,  names=[\"class\", \"Alcohol\",\"Malic acid\",\"Ash\",\"Alcanity of Ash\",\"Magnesium\",\"Total phenol\",\"Flavanoids\",\"NonFlavanoids phenols\",\"preonthocyanins\",\"color intensity\",\"Hue\",\"OD280/OD315 of diluted wines\",\"proline\"])\n",
    "df.head()"
   ]
  },
  {
   "cell_type": "code",
   "execution_count": 3,
   "id": "e65c790c-ba08-4154-b3d9-e1ed231dc3ce",
   "metadata": {},
   "outputs": [
    {
     "name": "stdout",
     "output_type": "stream",
     "text": [
      "<class 'pandas.core.frame.DataFrame'>\n",
      "RangeIndex: 178 entries, 0 to 177\n",
      "Data columns (total 14 columns):\n",
      " #   Column                        Non-Null Count  Dtype  \n",
      "---  ------                        --------------  -----  \n",
      " 0   class                         178 non-null    int64  \n",
      " 1   Alcohol                       178 non-null    float64\n",
      " 2   Malic acid                    178 non-null    float64\n",
      " 3   Ash                           178 non-null    float64\n",
      " 4   Alcanity of Ash               178 non-null    float64\n",
      " 5   Magnesium                     178 non-null    int64  \n",
      " 6   Total phenol                  178 non-null    float64\n",
      " 7   Flavanoids                    178 non-null    float64\n",
      " 8   NonFlavanoids phenols         178 non-null    float64\n",
      " 9   preonthocyanins               178 non-null    float64\n",
      " 10  color intensity               178 non-null    float64\n",
      " 11  Hue                           178 non-null    float64\n",
      " 12  OD280/OD315 of diluted wines  178 non-null    float64\n",
      " 13  proline                       178 non-null    int64  \n",
      "dtypes: float64(11), int64(3)\n",
      "memory usage: 19.6 KB\n"
     ]
    }
   ],
   "source": [
    "df.info()"
   ]
  },
  {
   "cell_type": "code",
   "execution_count": 4,
   "id": "e443797f-15d0-4e72-866e-201abb0779db",
   "metadata": {},
   "outputs": [
    {
     "name": "stdout",
     "output_type": "stream",
     "text": [
      "Donc aucune valeur manquante..\n"
     ]
    }
   ],
   "source": [
    "print(\"Donc aucune valeur manquante..\")"
   ]
  },
  {
   "cell_type": "code",
   "execution_count": 5,
   "id": "fc662af4-93aa-4682-81c9-8987a345ba80",
   "metadata": {},
   "outputs": [
    {
     "name": "stdout",
     "output_type": "stream",
     "text": [
      "caractéristiques..\n"
     ]
    },
    {
     "data": {
      "text/html": [
       "<div>\n",
       "<style scoped>\n",
       "    .dataframe tbody tr th:only-of-type {\n",
       "        vertical-align: middle;\n",
       "    }\n",
       "\n",
       "    .dataframe tbody tr th {\n",
       "        vertical-align: top;\n",
       "    }\n",
       "\n",
       "    .dataframe thead th {\n",
       "        text-align: right;\n",
       "    }\n",
       "</style>\n",
       "<table border=\"1\" class=\"dataframe\">\n",
       "  <thead>\n",
       "    <tr style=\"text-align: right;\">\n",
       "      <th></th>\n",
       "      <th>class</th>\n",
       "      <th>Alcohol</th>\n",
       "      <th>Malic acid</th>\n",
       "      <th>Ash</th>\n",
       "      <th>Alcanity of Ash</th>\n",
       "      <th>Magnesium</th>\n",
       "      <th>Total phenol</th>\n",
       "      <th>Flavanoids</th>\n",
       "      <th>NonFlavanoids phenols</th>\n",
       "      <th>preonthocyanins</th>\n",
       "      <th>color intensity</th>\n",
       "      <th>Hue</th>\n",
       "      <th>OD280/OD315 of diluted wines</th>\n",
       "      <th>proline</th>\n",
       "    </tr>\n",
       "  </thead>\n",
       "  <tbody>\n",
       "    <tr>\n",
       "      <th>count</th>\n",
       "      <td>178.000000</td>\n",
       "      <td>178.000000</td>\n",
       "      <td>178.000000</td>\n",
       "      <td>178.000000</td>\n",
       "      <td>178.000000</td>\n",
       "      <td>178.000000</td>\n",
       "      <td>178.000000</td>\n",
       "      <td>178.000000</td>\n",
       "      <td>178.000000</td>\n",
       "      <td>178.000000</td>\n",
       "      <td>178.000000</td>\n",
       "      <td>178.000000</td>\n",
       "      <td>178.000000</td>\n",
       "      <td>178.000000</td>\n",
       "    </tr>\n",
       "    <tr>\n",
       "      <th>mean</th>\n",
       "      <td>1.938202</td>\n",
       "      <td>13.000618</td>\n",
       "      <td>2.336348</td>\n",
       "      <td>2.366517</td>\n",
       "      <td>19.494944</td>\n",
       "      <td>99.741573</td>\n",
       "      <td>2.295112</td>\n",
       "      <td>2.029270</td>\n",
       "      <td>0.361854</td>\n",
       "      <td>1.590899</td>\n",
       "      <td>5.058090</td>\n",
       "      <td>0.957449</td>\n",
       "      <td>2.611685</td>\n",
       "      <td>746.893258</td>\n",
       "    </tr>\n",
       "    <tr>\n",
       "      <th>std</th>\n",
       "      <td>0.775035</td>\n",
       "      <td>0.811827</td>\n",
       "      <td>1.117146</td>\n",
       "      <td>0.274344</td>\n",
       "      <td>3.339564</td>\n",
       "      <td>14.282484</td>\n",
       "      <td>0.625851</td>\n",
       "      <td>0.998859</td>\n",
       "      <td>0.124453</td>\n",
       "      <td>0.572359</td>\n",
       "      <td>2.318286</td>\n",
       "      <td>0.228572</td>\n",
       "      <td>0.709990</td>\n",
       "      <td>314.907474</td>\n",
       "    </tr>\n",
       "    <tr>\n",
       "      <th>min</th>\n",
       "      <td>1.000000</td>\n",
       "      <td>11.030000</td>\n",
       "      <td>0.740000</td>\n",
       "      <td>1.360000</td>\n",
       "      <td>10.600000</td>\n",
       "      <td>70.000000</td>\n",
       "      <td>0.980000</td>\n",
       "      <td>0.340000</td>\n",
       "      <td>0.130000</td>\n",
       "      <td>0.410000</td>\n",
       "      <td>1.280000</td>\n",
       "      <td>0.480000</td>\n",
       "      <td>1.270000</td>\n",
       "      <td>278.000000</td>\n",
       "    </tr>\n",
       "    <tr>\n",
       "      <th>25%</th>\n",
       "      <td>1.000000</td>\n",
       "      <td>12.362500</td>\n",
       "      <td>1.602500</td>\n",
       "      <td>2.210000</td>\n",
       "      <td>17.200000</td>\n",
       "      <td>88.000000</td>\n",
       "      <td>1.742500</td>\n",
       "      <td>1.205000</td>\n",
       "      <td>0.270000</td>\n",
       "      <td>1.250000</td>\n",
       "      <td>3.220000</td>\n",
       "      <td>0.782500</td>\n",
       "      <td>1.937500</td>\n",
       "      <td>500.500000</td>\n",
       "    </tr>\n",
       "    <tr>\n",
       "      <th>50%</th>\n",
       "      <td>2.000000</td>\n",
       "      <td>13.050000</td>\n",
       "      <td>1.865000</td>\n",
       "      <td>2.360000</td>\n",
       "      <td>19.500000</td>\n",
       "      <td>98.000000</td>\n",
       "      <td>2.355000</td>\n",
       "      <td>2.135000</td>\n",
       "      <td>0.340000</td>\n",
       "      <td>1.555000</td>\n",
       "      <td>4.690000</td>\n",
       "      <td>0.965000</td>\n",
       "      <td>2.780000</td>\n",
       "      <td>673.500000</td>\n",
       "    </tr>\n",
       "    <tr>\n",
       "      <th>75%</th>\n",
       "      <td>3.000000</td>\n",
       "      <td>13.677500</td>\n",
       "      <td>3.082500</td>\n",
       "      <td>2.557500</td>\n",
       "      <td>21.500000</td>\n",
       "      <td>107.000000</td>\n",
       "      <td>2.800000</td>\n",
       "      <td>2.875000</td>\n",
       "      <td>0.437500</td>\n",
       "      <td>1.950000</td>\n",
       "      <td>6.200000</td>\n",
       "      <td>1.120000</td>\n",
       "      <td>3.170000</td>\n",
       "      <td>985.000000</td>\n",
       "    </tr>\n",
       "    <tr>\n",
       "      <th>max</th>\n",
       "      <td>3.000000</td>\n",
       "      <td>14.830000</td>\n",
       "      <td>5.800000</td>\n",
       "      <td>3.230000</td>\n",
       "      <td>30.000000</td>\n",
       "      <td>162.000000</td>\n",
       "      <td>3.880000</td>\n",
       "      <td>5.080000</td>\n",
       "      <td>0.660000</td>\n",
       "      <td>3.580000</td>\n",
       "      <td>13.000000</td>\n",
       "      <td>1.710000</td>\n",
       "      <td>4.000000</td>\n",
       "      <td>1680.000000</td>\n",
       "    </tr>\n",
       "  </tbody>\n",
       "</table>\n",
       "</div>"
      ],
      "text/plain": [
       "            class     Alcohol  Malic acid         Ash  Alcanity of Ash  \\\n",
       "count  178.000000  178.000000  178.000000  178.000000       178.000000   \n",
       "mean     1.938202   13.000618    2.336348    2.366517        19.494944   \n",
       "std      0.775035    0.811827    1.117146    0.274344         3.339564   \n",
       "min      1.000000   11.030000    0.740000    1.360000        10.600000   \n",
       "25%      1.000000   12.362500    1.602500    2.210000        17.200000   \n",
       "50%      2.000000   13.050000    1.865000    2.360000        19.500000   \n",
       "75%      3.000000   13.677500    3.082500    2.557500        21.500000   \n",
       "max      3.000000   14.830000    5.800000    3.230000        30.000000   \n",
       "\n",
       "        Magnesium  Total phenol  Flavanoids  NonFlavanoids phenols  \\\n",
       "count  178.000000    178.000000  178.000000             178.000000   \n",
       "mean    99.741573      2.295112    2.029270               0.361854   \n",
       "std     14.282484      0.625851    0.998859               0.124453   \n",
       "min     70.000000      0.980000    0.340000               0.130000   \n",
       "25%     88.000000      1.742500    1.205000               0.270000   \n",
       "50%     98.000000      2.355000    2.135000               0.340000   \n",
       "75%    107.000000      2.800000    2.875000               0.437500   \n",
       "max    162.000000      3.880000    5.080000               0.660000   \n",
       "\n",
       "       preonthocyanins  color intensity         Hue  \\\n",
       "count       178.000000       178.000000  178.000000   \n",
       "mean          1.590899         5.058090    0.957449   \n",
       "std           0.572359         2.318286    0.228572   \n",
       "min           0.410000         1.280000    0.480000   \n",
       "25%           1.250000         3.220000    0.782500   \n",
       "50%           1.555000         4.690000    0.965000   \n",
       "75%           1.950000         6.200000    1.120000   \n",
       "max           3.580000        13.000000    1.710000   \n",
       "\n",
       "       OD280/OD315 of diluted wines      proline  \n",
       "count                    178.000000   178.000000  \n",
       "mean                       2.611685   746.893258  \n",
       "std                        0.709990   314.907474  \n",
       "min                        1.270000   278.000000  \n",
       "25%                        1.937500   500.500000  \n",
       "50%                        2.780000   673.500000  \n",
       "75%                        3.170000   985.000000  \n",
       "max                        4.000000  1680.000000  "
      ]
     },
     "execution_count": 5,
     "metadata": {},
     "output_type": "execute_result"
    }
   ],
   "source": [
    "print(\"caractéristiques..\")\n",
    "df.describe()"
   ]
  },
  {
   "cell_type": "markdown",
   "id": "f90667f2-0bb6-47e6-8cd3-81b70c07b709",
   "metadata": {},
   "source": [
    "### Discrétisation du dataset en quantile, d'autres en 5, 4 groupes.."
   ]
  },
  {
   "cell_type": "code",
   "execution_count": 6,
   "id": "07c7c7ef-5c32-421a-9a80-fd011149060c",
   "metadata": {},
   "outputs": [],
   "source": [
    "df_discretize = pd.DataFrame()\n",
    "\n",
    "df_discretize['Alcohol'] = pd.qcut(df['Alcohol'], q=3, labels=['Faible', 'Moyen', 'Élevé'])\n",
    "df_discretize['Malic acid'] = pd.qcut(df['Malic acid'], q=3, labels=['Faible', 'Moyen', 'Élevé'])\n",
    "#df_discretize['Ash'] = pd.qcut(df['Ash'], q=3, labels=['Faible', 'Moyen', 'Élevé'])\n",
    "#df_discretize['Alcanity of Ash'] = pd.qcut(df['Alcanity of Ash'], q=3, labels=['Faible', 'Moyen', 'Élevé'])\n",
    "df_discretize['Magnesium'] = pd.cut(df['Magnesium'], bins=2 , labels=['Petit', 'Grand'])"
   ]
  },
  {
   "cell_type": "code",
   "execution_count": 7,
   "id": "3c00b994-4ff3-4b40-9040-e1f6e4db7fa9",
   "metadata": {},
   "outputs": [
    {
     "name": "stdout",
     "output_type": "stream",
     "text": [
      "<class 'pandas.core.frame.DataFrame'>\n",
      "RangeIndex: 178 entries, 0 to 177\n",
      "Data columns (total 3 columns):\n",
      " #   Column      Non-Null Count  Dtype   \n",
      "---  ------      --------------  -----   \n",
      " 0   Alcohol     178 non-null    category\n",
      " 1   Malic acid  178 non-null    category\n",
      " 2   Magnesium   178 non-null    category\n",
      "dtypes: category(3)\n",
      "memory usage: 1.0 KB\n"
     ]
    }
   ],
   "source": [
    "df_discretize.info()"
   ]
  },
  {
   "cell_type": "code",
   "execution_count": 8,
   "id": "5cb3d3df-6abf-4f4e-8b5d-8c2ebe8b4412",
   "metadata": {},
   "outputs": [
    {
     "data": {
      "text/html": [
       "<div>\n",
       "<style scoped>\n",
       "    .dataframe tbody tr th:only-of-type {\n",
       "        vertical-align: middle;\n",
       "    }\n",
       "\n",
       "    .dataframe tbody tr th {\n",
       "        vertical-align: top;\n",
       "    }\n",
       "\n",
       "    .dataframe thead th {\n",
       "        text-align: right;\n",
       "    }\n",
       "</style>\n",
       "<table border=\"1\" class=\"dataframe\">\n",
       "  <thead>\n",
       "    <tr style=\"text-align: right;\">\n",
       "      <th></th>\n",
       "      <th>Alcohol</th>\n",
       "      <th>Malic acid</th>\n",
       "      <th>Magnesium</th>\n",
       "    </tr>\n",
       "  </thead>\n",
       "  <tbody>\n",
       "    <tr>\n",
       "      <th>0</th>\n",
       "      <td>Élevé</td>\n",
       "      <td>Moyen</td>\n",
       "      <td>Grand</td>\n",
       "    </tr>\n",
       "    <tr>\n",
       "      <th>1</th>\n",
       "      <td>Moyen</td>\n",
       "      <td>Moyen</td>\n",
       "      <td>Petit</td>\n",
       "    </tr>\n",
       "    <tr>\n",
       "      <th>2</th>\n",
       "      <td>Moyen</td>\n",
       "      <td>Moyen</td>\n",
       "      <td>Petit</td>\n",
       "    </tr>\n",
       "    <tr>\n",
       "      <th>3</th>\n",
       "      <td>Élevé</td>\n",
       "      <td>Moyen</td>\n",
       "      <td>Petit</td>\n",
       "    </tr>\n",
       "    <tr>\n",
       "      <th>4</th>\n",
       "      <td>Moyen</td>\n",
       "      <td>Élevé</td>\n",
       "      <td>Grand</td>\n",
       "    </tr>\n",
       "  </tbody>\n",
       "</table>\n",
       "</div>"
      ],
      "text/plain": [
       "  Alcohol Malic acid Magnesium\n",
       "0   Élevé      Moyen     Grand\n",
       "1   Moyen      Moyen     Petit\n",
       "2   Moyen      Moyen     Petit\n",
       "3   Élevé      Moyen     Petit\n",
       "4   Moyen      Élevé     Grand"
      ]
     },
     "execution_count": 8,
     "metadata": {},
     "output_type": "execute_result"
    }
   ],
   "source": [
    "df_discretize.head()"
   ]
  },
  {
   "cell_type": "code",
   "execution_count": 9,
   "id": "8060a535-2af8-4d8a-abc7-210da5c5a6cb",
   "metadata": {},
   "outputs": [
    {
     "data": {
      "text/html": [
       "<div>\n",
       "<style scoped>\n",
       "    .dataframe tbody tr th:only-of-type {\n",
       "        vertical-align: middle;\n",
       "    }\n",
       "\n",
       "    .dataframe tbody tr th {\n",
       "        vertical-align: top;\n",
       "    }\n",
       "\n",
       "    .dataframe thead th {\n",
       "        text-align: right;\n",
       "    }\n",
       "</style>\n",
       "<table border=\"1\" class=\"dataframe\">\n",
       "  <thead>\n",
       "    <tr style=\"text-align: right;\">\n",
       "      <th></th>\n",
       "      <th>Alcohol</th>\n",
       "      <th>Malic acid</th>\n",
       "      <th>Magnesium</th>\n",
       "    </tr>\n",
       "  </thead>\n",
       "  <tbody>\n",
       "    <tr>\n",
       "      <th>count</th>\n",
       "      <td>178</td>\n",
       "      <td>178</td>\n",
       "      <td>178</td>\n",
       "    </tr>\n",
       "    <tr>\n",
       "      <th>unique</th>\n",
       "      <td>3</td>\n",
       "      <td>3</td>\n",
       "      <td>2</td>\n",
       "    </tr>\n",
       "    <tr>\n",
       "      <th>top</th>\n",
       "      <td>Faible</td>\n",
       "      <td>Faible</td>\n",
       "      <td>Petit</td>\n",
       "    </tr>\n",
       "    <tr>\n",
       "      <th>freq</th>\n",
       "      <td>60</td>\n",
       "      <td>60</td>\n",
       "      <td>157</td>\n",
       "    </tr>\n",
       "  </tbody>\n",
       "</table>\n",
       "</div>"
      ],
      "text/plain": [
       "       Alcohol Malic acid Magnesium\n",
       "count      178        178       178\n",
       "unique       3          3         2\n",
       "top     Faible     Faible     Petit\n",
       "freq        60         60       157"
      ]
     },
     "execution_count": 9,
     "metadata": {},
     "output_type": "execute_result"
    }
   ],
   "source": [
    "df_discretize.describe()"
   ]
  },
  {
   "cell_type": "markdown",
   "id": "0bcb24b4-fd71-4491-8d6d-dea6770be76a",
   "metadata": {},
   "source": [
    "#### On remarque  bien que les 5 colonnes choisies n'apparaissent plus"
   ]
  },
  {
   "cell_type": "code",
   "execution_count": 10,
   "id": "dfe597f8-1bfc-4c58-92a3-584f2a4eeec7",
   "metadata": {},
   "outputs": [],
   "source": [
    "from mlxtend.frequent_patterns import apriori, association_rules\n",
    "from mlxtend.preprocessing import TransactionEncoder"
   ]
  },
  {
   "cell_type": "code",
   "execution_count": 11,
   "id": "fd0288aa-26f4-43bf-92b9-444b1ab7d062",
   "metadata": {},
   "outputs": [],
   "source": [
    "# 2. Préparation des données pour l'algorithme Aprior"
   ]
  },
  {
   "cell_type": "code",
   "execution_count": 12,
   "id": "7f7d15e1-42a6-498a-a322-e2b020a54f5d",
   "metadata": {},
   "outputs": [],
   "source": [
    "def prepare_transactions(df):\n",
    "    transactions = []\n",
    "    \n",
    "    for _, row in df.iterrows():\n",
    "        transaction = []\n",
    "        for col in df.columns:\n",
    "            # Créer des items de la forme \"Variable=Valeur\"\n",
    "            item = f\"{col}={row[col]}\"\n",
    "            transaction.append(item)\n",
    "        transactions.append(transaction)\n",
    "    \n",
    "    return transactions\n",
    "\n",
    "# Création des transactions\n",
    "transactions = prepare_transactions(df_discretize)"
   ]
  },
  {
   "cell_type": "code",
   "execution_count": 13,
   "id": "541dbc8b-9aea-4141-8aba-7402231a87b9",
   "metadata": {},
   "outputs": [
    {
     "name": "stdout",
     "output_type": "stream",
     "text": [
      "\n",
      "Nombre total de transactions: 178\n",
      "\n",
      "Exemple de transaction:\n",
      "['Alcohol=Élevé', 'Malic acid=Moyen', 'Magnesium=Grand']\n"
     ]
    }
   ],
   "source": [
    "print(f\"\\nNombre total de transactions: {len(transactions)}\")\n",
    "print(\"\\nExemple de transaction:\")\n",
    "print(transactions[0])"
   ]
  },
  {
   "cell_type": "code",
   "execution_count": 14,
   "id": "a7042cf6-9f3b-48d5-b17c-15063996eb3c",
   "metadata": {},
   "outputs": [
    {
     "name": "stdout",
     "output_type": "stream",
     "text": [
      "\n",
      "Shape des données encodées: (178, 8)\n",
      "\n",
      "Colonnes (items) disponibles:\n",
      "['Alcohol=Faible', 'Alcohol=Moyen', 'Alcohol=Élevé', 'Magnesium=Grand', 'Magnesium=Petit', 'Malic acid=Faible', 'Malic acid=Moyen', 'Malic acid=Élevé']\n"
     ]
    }
   ],
   "source": [
    "# 3. Encodage des transactions pour Apriori\n",
    "te = TransactionEncoder()\n",
    "te_ary = te.fit(transactions).transform(transactions)\n",
    "df_encoded = pd.DataFrame(te_ary, columns=te.columns_)\n",
    "\n",
    "print(f\"\\nShape des données encodées: {df_encoded.shape}\")\n",
    "print(\"\\nColonnes (items) disponibles:\")\n",
    "print(df_encoded.columns.tolist())"
   ]
  },
  {
   "cell_type": "code",
   "execution_count": 15,
   "id": "38bf57a5-69c1-4133-9ff9-a5a413e50cec",
   "metadata": {},
   "outputs": [
    {
     "name": "stdout",
     "output_type": "stream",
     "text": [
      "\n",
      "Nombre d'itemsets fréquents trouvés: 12\n",
      "\n",
      "Itemsets fréquents\n",
      "     support                             itemsets  length\n",
      "3   0.882022                    (Magnesium=Petit)       1\n",
      "0   0.337079                     (Alcohol=Faible)       1\n",
      "6   0.337079                   (Malic acid=Élevé)       1\n",
      "4   0.337079                  (Malic acid=Faible)       1\n",
      "2   0.331461                      (Alcohol=Élevé)       1\n",
      "1   0.331461                      (Alcohol=Moyen)       1\n",
      "5   0.325843                   (Malic acid=Moyen)       1\n",
      "7   0.308989    (Alcohol=Faible, Magnesium=Petit)       2\n",
      "11  0.308989  (Malic acid=Élevé, Magnesium=Petit)       2\n",
      "8   0.297753     (Alcohol=Moyen, Magnesium=Petit)       2\n"
     ]
    }
   ],
   "source": [
    "# Calcul des itemsets fréquents\n",
    "frequent_itemsets = apriori(df_encoded, \n",
    "                           min_support=0.28,  #Le support minimale ici est 32% pour avoir plus d'information\n",
    "                           use_colnames=True,\n",
    "                           max_len=None)\n",
    "\n",
    "print(f\"\\nNombre d'itemsets fréquents trouvés: {len(frequent_itemsets)}\")\n",
    "print(\"\\nItemsets fréquents\")\n",
    "frequent_itemsets['length'] = frequent_itemsets['itemsets'].apply(lambda x: len(x))\n",
    "print(frequent_itemsets.sort_values('support', ascending=False).head(10))\n"
   ]
  },
  {
   "cell_type": "code",
   "execution_count": 16,
   "id": "a48b3c8f-0557-4469-8a84-e7bdbdcbafe6",
   "metadata": {},
   "outputs": [
    {
     "name": "stdout",
     "output_type": "stream",
     "text": [
      "\n",
      "Extraction des règles d'association...\n",
      "\n",
      "Nombre de règles trouvées: 5\n",
      "\n",
      "Règles d'association (top 15):\n",
      "           antecedents        consequents   support  confidence      lift\n",
      "0     (Alcohol=Faible)  (Magnesium=Petit)  0.308989    0.916667  1.039278\n",
      "4   (Malic acid=Élevé)  (Magnesium=Petit)  0.308989    0.916667  1.039278\n",
      "1      (Alcohol=Moyen)  (Magnesium=Petit)  0.297753    0.898305  1.018461\n",
      "2  (Malic acid=Faible)  (Magnesium=Petit)  0.292135    0.866667  0.982590\n",
      "3   (Malic acid=Moyen)  (Magnesium=Petit)  0.280899    0.862069  0.977378\n",
      "\n",
      "=== ANALYSE DES RÈGLES ===\n",
      "\n",
      "Règles avec le plus fort lift (corrélation):\n",
      "          antecedents        consequents   support  confidence      lift\n",
      "0    (Alcohol=Faible)  (Magnesium=Petit)  0.308989    0.916667  1.039278\n",
      "4  (Malic acid=Élevé)  (Magnesium=Petit)  0.308989    0.916667  1.039278\n",
      "1     (Alcohol=Moyen)  (Magnesium=Petit)  0.297753    0.898305  1.018461\n"
     ]
    }
   ],
   "source": [
    "# 5. Extraction des règles d'association\n",
    "print(\"\\nExtraction des règles d'association...\")\n",
    "\n",
    "rules = association_rules(frequent_itemsets, \n",
    "                         metric=\"confidence\", \n",
    "                         min_threshold=0.5)\n",
    "\n",
    "print(f\"\\nNombre de règles trouvées: {len(rules)}\")\n",
    "\n",
    "if len(rules) > 0:\n",
    "    # Tri par confidence décroissante\n",
    "    rules = rules.sort_values('confidence', ascending=False)\n",
    "    \n",
    "    print(\"\\nRègles d'association (top 15):\")\n",
    "    display_columns = ['antecedents', 'consequents', 'support', 'confidence', 'lift']\n",
    "    print(rules[display_columns].head(15))\n",
    "    \n",
    "    # 6. Analyse des règles\n",
    "    print(\"\\n=== ANALYSE DES RÈGLES ===\")\n",
    "    \n",
    "    # Règles avec le plus fort lift\n",
    "    print(\"\\nRègles avec le plus fort lift (corrélation):\")\n",
    "    high_lift_rules = rules[rules['lift'] > 1].sort_values('lift', ascending=False)\n",
    "    print(high_lift_rules[display_columns].head(10))"
   ]
  },
  {
   "cell_type": "code",
   "execution_count": 17,
   "id": "aac5642c-4a48-4f3c-af7a-04f5f7829e96",
   "metadata": {},
   "outputs": [
    {
     "name": "stdout",
     "output_type": "stream",
     "text": [
      "\n",
      "Règles avec forte confidence (> 0.8):\n",
      "           antecedents        consequents   support  confidence      lift\n",
      "0     (Alcohol=Faible)  (Magnesium=Petit)  0.308989    0.916667  1.039278\n",
      "4   (Malic acid=Élevé)  (Magnesium=Petit)  0.308989    0.916667  1.039278\n",
      "1      (Alcohol=Moyen)  (Magnesium=Petit)  0.297753    0.898305  1.018461\n",
      "2  (Malic acid=Faible)  (Magnesium=Petit)  0.292135    0.866667  0.982590\n",
      "3   (Malic acid=Moyen)  (Magnesium=Petit)  0.280899    0.862069  0.977378\n"
     ]
    }
   ],
   "source": [
    "# Règles avec forte confidence\n",
    "print(\"\\nRègles avec forte confidence (> 0.8):\")\n",
    "high_conf_rules = rules[rules['confidence'] > 0.8]\n",
    "if len(high_conf_rules) > 0:\n",
    "    print(high_conf_rules[display_columns])\n",
    "else:\n",
    "    print(\"Aucune règle avec confidence > 0.8\")"
   ]
  },
  {
   "cell_type": "markdown",
   "id": "8d6433d9-7f04-491e-bf24-dd2c58ae3d18",
   "metadata": {},
   "source": [
    "### Visualisation"
   ]
  },
  {
   "cell_type": "code",
   "execution_count": 18,
   "id": "aff5bd1c-ae7b-47e9-9238-82aed29f8d08",
   "metadata": {},
   "outputs": [
    {
     "data": {
      "text/plain": [
       "<Figure size 1500x1000 with 0 Axes>"
      ]
     },
     "execution_count": 18,
     "metadata": {},
     "output_type": "execute_result"
    },
    {
     "data": {
      "text/plain": [
       "<Figure size 1500x1000 with 0 Axes>"
      ]
     },
     "metadata": {},
     "output_type": "display_data"
    }
   ],
   "source": [
    "# 7. Visualisations\n",
    "plt.figure(figsize=(15, 10))"
   ]
  },
  {
   "cell_type": "code",
   "execution_count": 19,
   "id": "cfce5661-70c4-4b7a-a1fc-888287f16d53",
   "metadata": {},
   "outputs": [
    {
     "data": {
      "text/plain": [
       "Text(0.5, 1.0, 'Support vs Confidence')"
      ]
     },
     "execution_count": 19,
     "metadata": {},
     "output_type": "execute_result"
    },
    {
     "data": {
      "image/png": "[encoded data removed]",
      "text/plain": [
       "<Figure size 640x480 with 1 Axes>"
      ]
     },
     "metadata": {},
     "output_type": "display_data"
    }
   ],
   "source": [
    "# Graphique 1: Support vs Confidence\n",
    "plt.subplot(2, 2, 1)\n",
    "plt.scatter(rules['support'], rules['confidence'], alpha=0.5)\n",
    "plt.xlabel('Support')\n",
    "plt.ylabel('Confidence')\n",
    "plt.title('Support vs Confidence')"
   ]
  },
  {
   "cell_type": "code",
   "execution_count": 20,
   "id": "a72747b6-b574-49a2-b18a-a122f1188da6",
   "metadata": {},
   "outputs": [
    {
     "data": {
      "text/plain": [
       "Text(0.5, 1.0, 'Top 10 règles par Lift')"
      ]
     },
     "execution_count": 20,
     "metadata": {},
     "output_type": "execute_result"
    },
    {
     "data": {
      "image/png": "[encoded data removed]",
      "text/plain": [
       "<Figure size 640x480 with 1 Axes>"
      ]
     },
     "metadata": {},
     "output_type": "display_data"
    }
   ],
   "source": [
    "# Graphique 2: Top 10 règles par lift\n",
    "plt.subplot(2, 2, 2)\n",
    "top_rules = rules.head(10)\n",
    "rules_labels = [f\"R{i}\" for i in range(len(top_rules))]\n",
    "plt.barh(rules_labels, top_rules['lift'])\n",
    "plt.xlabel('Lift')\n",
    "plt.title('Top 10 règles par Lift')"
   ]
  },
  {
   "cell_type": "code",
   "execution_count": 21,
   "id": "f23fd522-c638-4c59-aa90-0e2fcdde9c53",
   "metadata": {},
   "outputs": [
    {
     "data": {
      "text/plain": [
       "Text(0.5, 1.0, 'Distribution du Support des Itemsets')"
      ]
     },
     "execution_count": 21,
     "metadata": {},
     "output_type": "execute_result"
    },
    {
     "data": {
      "image/png": "[encoded data removed]",
      "text/plain": [
       "<Figure size 640x480 with 1 Axes>"
      ]
     },
     "metadata": {},
     "output_type": "display_data"
    }
   ],
   "source": [
    "plt.subplot(2, 2, 3)\n",
    "plt.hist(frequent_itemsets['support'], bins=10, alpha=0.7)\n",
    "plt.xlabel('Support')\n",
    "plt.ylabel('Fréquence')\n",
    "plt.title('Distribution du Support des Itemsets')"
   ]
  },
  {
   "cell_type": "code",
   "execution_count": 22,
   "id": "79292ab9-344a-41e3-98c9-d7513de327f5",
   "metadata": {},
   "outputs": [
    {
     "data": {
      "image/png": "[encoded data removed]",
      "text/plain": [
       "<Figure size 640x480 with 1 Axes>"
      ]
     },
     "metadata": {},
     "output_type": "display_data"
    }
   ],
   "source": [
    " # Graphique 4: Taille des itemsets fréquents\n",
    "plt.subplot(2, 2, 4)\n",
    "itemset_sizes = frequent_itemsets['length'].value_counts().sort_index()\n",
    "itemset_sizes.plot(kind='bar')\n",
    "plt.xlabel('Taille des itemsets')\n",
    "plt.ylabel('Nombre')\n",
    "plt.title('Distribution de la taille des itemsets')\n",
    "\n",
    "plt.tight_layout()\n",
    "plt.show()"
   ]
  },
  {
   "cell_type": "code",
   "execution_count": 23,
   "id": "c62fd405-ce5f-4fa5-961a-9e4f9f61ecc6",
   "metadata": {},
   "outputs": [
    {
     "name": "stdout",
     "output_type": "stream",
     "text": [
      "\n",
      "=== INTERPRÉTATION DES MEILLEURES RÈGLES ===\n",
      "\n",
      "Règle #1:\n",
      "SI {'Alcohol=Faible'} ALORS {'Magnesium=Petit'}\n",
      "Support: 0.309\n",
      "Confidence: 0.917\n",
      "Lift: 1.039\n",
      "\n",
      "Règle #2:\n",
      "SI {'Malic acid=Élevé'} ALORS {'Magnesium=Petit'}\n",
      "Support: 0.309\n",
      "Confidence: 0.917\n",
      "Lift: 1.039\n",
      "\n",
      "Règle #3:\n",
      "SI {'Alcohol=Moyen'} ALORS {'Magnesium=Petit'}\n",
      "Support: 0.298\n",
      "Confidence: 0.898\n",
      "Lift: 1.018\n",
      "\n",
      "Règle #4:\n",
      "SI {'Malic acid=Faible'} ALORS {'Magnesium=Petit'}\n",
      "Support: 0.292\n",
      "Confidence: 0.867\n",
      "Lift: 0.983\n",
      "\n",
      "Règle #5:\n",
      "SI {'Malic acid=Moyen'} ALORS {'Magnesium=Petit'}\n",
      "Support: 0.281\n",
      "Confidence: 0.862\n",
      "Lift: 0.977\n"
     ]
    }
   ],
   "source": [
    "# 8. Interprétation des meilleures règles\n",
    "print(\"\\n=== INTERPRÉTATION DES MEILLEURES RÈGLES ===\")\n",
    "top_5_rules = rules.head(5)\n",
    "\n",
    "for i, (idx, rule) in enumerate(top_5_rules.iterrows()):\n",
    "    print(f\"\\nRègle #{i+1}:\")\n",
    "    print(f\"SI {set(rule['antecedents'])} ALORS {set(rule['consequents'])}\")\n",
    "    print(f\"Support: {rule['support']:.3f}\")\n",
    "    print(f\"Confidence: {rule['confidence']:.3f}\")\n",
    "    print(f\"Lift: {rule['lift']:.3f}\")\n",
    "        \n"
   ]
  },
  {
   "cell_type": "markdown",
   "id": "90f12489-2243-4d83-8b5e-5789c9eb1cf5",
   "metadata": {},
   "source": [
    "### Exportation des résultats"
   ]
  },
  {
   "cell_type": "code",
   "execution_count": 24,
   "id": "d4fe5b3f-a64f-41c5-baad-fb20405f8ff7",
   "metadata": {},
   "outputs": [
    {
     "name": "stdout",
     "output_type": "stream",
     "text": [
      "Résultats exportés dans 'regles_association_vin.csv' et 'itemsets_frequents_vin.csv'\n"
     ]
    }
   ],
   "source": [
    "# Sauvegarde des règles\n",
    "rules.to_csv('regles_association_vin.csv', index=False)\n",
    "frequent_itemsets.to_csv('itemsets_frequents_vin.csv', index=False)\n",
    "\n",
    "print(\"Résultats exportés dans 'regles_association_vin.csv' et 'itemsets_frequents_vin.csv'\")\n"
   ]
  }
 ],
 "metadata": {
  "kernelspec": {
   "display_name": "Python 3 (ipykernel)",
   "language": "python",
   "name": "python3"
  },
  "language_info": {
   "codemirror_mode": {
    "name": "ipython",
    "version": 3
   },
   "file_extension": ".py",
   "mimetype": "text/x-python",
   "name": "python",
   "nbconvert_exporter": "python",
   "pygments_lexer": "ipython3",
   "version": "3.10.12"
  }
 },
 "nbformat": 4,
 "nbformat_minor": 5
}
